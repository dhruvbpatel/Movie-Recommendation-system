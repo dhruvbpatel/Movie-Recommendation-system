{
 "metadata": {
  "language_info": {
   "codemirror_mode": {
    "name": "ipython",
    "version": 3
   },
   "file_extension": ".py",
   "mimetype": "text/x-python",
   "name": "python",
   "nbconvert_exporter": "python",
   "pygments_lexer": "ipython3",
   "version": "3.7.1-final"
  },
  "orig_nbformat": 2,
  "kernelspec": {
   "name": "python37164bitmovieconda3cae32089aa248a7afc5f55cc2b702fc",
   "display_name": "Python 3.7.1 64-bit ('movie': conda)"
  }
 },
 "nbformat": 4,
 "nbformat_minor": 2,
 "cells": [
  {
   "cell_type": "code",
   "execution_count": 1,
   "metadata": {},
   "outputs": [],
   "source": [
    "#import libraries\n",
    "from surprise import Dataset\n",
    "from surprise import Reader\n",
    "from surprise import SVD\n",
    "from pathlib import Path\n",
    "from surprise.model_selection import cross_validate\n",
    "import pandas as pd\n"
   ]
  },
  {
   "cell_type": "code",
   "execution_count": 2,
   "metadata": {},
   "outputs": [],
   "source": [
    "#set up paths\n",
    "PATH = Path('../../')\n",
    "DATA= PATH/'data'\n",
    "CODE= PATH/'code'\n",
    "PRODUCTS=PATH/'products'\n",
    "WORKING_DATA= DATA/'working_data'"
   ]
  },
  {
   "cell_type": "code",
   "execution_count": 5,
   "metadata": {},
   "outputs": [],
   "source": [
    "ratings = pd.read_csv(WORKING_DATA/'ratings_small.csv')"
   ]
  },
  {
   "cell_type": "code",
   "execution_count": 13,
   "metadata": {},
   "outputs": [],
   "source": [
    "\n",
    "reader = Reader(rating_scale=(1, 5))\n",
    "\n",
    "data = Dataset.load_from_df(ratings[['userId','movieId','rating']], reader=reader)\n"
   ]
  },
  {
   "cell_type": "code",
   "execution_count": 14,
   "metadata": {
    "tags": []
   },
   "outputs": [
    {
     "output_type": "stream",
     "name": "stdout",
     "text": "Evaluating RMSE, MAE of algorithm SVD on 5 split(s).\n\n                  Fold 1  Fold 2  Fold 3  Fold 4  Fold 5  Mean    Std     \nRMSE (testset)    0.9059  0.8868  0.9003  0.8912  0.8952  0.8959  0.0067  \nMAE (testset)     0.6952  0.6836  0.6922  0.6851  0.6908  0.6894  0.0044  \nFit time          4.23    4.14    4.05    4.05    4.22    4.14    0.08    \nTest time         0.22    0.13    0.18    0.12    0.15    0.16    0.04    \n"
    },
    {
     "output_type": "execute_result",
     "data": {
      "text/plain": "{'test_rmse': array([0.9059344 , 0.88679368, 0.90028945, 0.8912226 , 0.89519541]),\n 'test_mae': array([0.69518677, 0.68360285, 0.6922356 , 0.68510631, 0.69081648]),\n 'fit_time': (4.229721546173096,\n  4.141724348068237,\n  4.046010971069336,\n  4.048713684082031,\n  4.222313165664673),\n 'test_time': (0.2225325107574463,\n  0.12961530685424805,\n  0.17952370643615723,\n  0.11872386932373047,\n  0.15359044075012207)}"
     },
     "metadata": {},
     "execution_count": 14
    }
   ],
   "source": [
    "#algorithm\n",
    "algo = SVD()\n",
    "\n",
    "# Run 5-fold cross-validation and print results.\n",
    "cross_validate(algo, data, measures=['RMSE', 'MAE'], cv=5, verbose=True)"
   ]
  },
  {
   "cell_type": "code",
   "execution_count": null,
   "metadata": {},
   "outputs": [],
   "source": [
    "# param_grid = {'n_epochs': [5, 10], 'lr_all': [0.002, 0.005],\n",
    "#               'reg_all': [0.4, 0.6]}\n",
    "# gs = GridSearchCV(SVD, param_grid, measures=['rmse', 'mae'], cv=3)\n",
    "\n",
    "# gs.fit(data)\n",
    "\n",
    "# # best RMSE score\n",
    "# print(gs.best_score['rmse'])\n",
    "\n",
    "# # combination of parameters that gave the best RMSE score\n",
    "# print(gs.best_params['rmse'])"
   ]
  }
 ]
}